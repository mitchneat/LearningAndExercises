{
 "cells": [
  {
   "cell_type": "code",
   "execution_count": 3,
   "metadata": {},
   "outputs": [],
   "source": [
    "import math \n",
    "import numpy as np\n",
    "from scipy import linalg\n",
    "import matplotlib.pyplot as plt\n",
    "np.set_printoptions(suppress=True)"
   ]
  },
  {
   "cell_type": "markdown",
   "metadata": {},
   "source": [
    "# Givens Rotation Matrix"
   ]
  },
  {
   "cell_type": "code",
   "execution_count": 6,
   "metadata": {},
   "outputs": [],
   "source": [
    "# Inputs\n",
    "# A : n x n symmetric matrix (A.T = A)\n",
    "# p,q : row and column to zero out\n",
    "# Outputs\n",
    "# G : Orthogonal Matrix such that (G^T A G)_pq = (G^T A G)_qp = 0\n",
    "def givens_rotation (A,p,q):\n",
    "    G = np.identity(len(A))\n",
    "    if (A[p,q] != 0):\n",
    "        temp = (A[p,p] - A[q,q])/A[p,q]\n",
    "        root = (temp + math.sqrt(temp**2+4))/2\n",
    "        c = 1/math.sqrt(1+root**2)\n",
    "        s = c*root\n",
    "        G[p,p] = c\n",
    "        G[p,q] = s\n",
    "        G[q,p] = -s\n",
    "        G[q,q] = c\n",
    "    return (G)"
   ]
  },
  {
   "cell_type": "markdown",
   "metadata": {},
   "source": [
    "# Our First Test Matrix\n",
    "# $$A = \\begin{bmatrix} 2 & 1 & 1 & -2 \\\\ 1 & 2 & 1 & 1 \\\\ 1 & 1 & 2 & 1 \\\\ -2 & 1 & 1 & 2 \\end{bmatrix}$$"
   ]
  },
  {
   "cell_type": "code",
   "execution_count": 7,
   "metadata": {},
   "outputs": [
    {
     "name": "stdout",
     "output_type": "stream",
     "text": [
      "[[ 2  1  1 -2]\n",
      " [ 1  2  1  1]\n",
      " [ 1  1  2  1]\n",
      " [-2  1  1  2]]\n"
     ]
    }
   ],
   "source": [
    "A = np.array([[2,1,1,-2],[1,2,1,1],[1,1,2,1],[-2,1,1,2]])\n",
    "print (A)"
   ]
  },
  {
   "cell_type": "markdown",
   "metadata": {},
   "source": [
    "# Part 1 : Finish the function locate_max\n",
    "## You Must use a nested for loop in your implementation!"
   ]
  },
  {
   "cell_type": "code",
   "execution_count": 8,
   "metadata": {},
   "outputs": [],
   "source": [
    "# Inputs\n",
    "# A : n x n symmetric matrix (A.T = A)\n",
    "# Outputs\n",
    "# max : maximum size off diagonal entry\n",
    "# max_row, max_col : location of maximum size off diagonal entry\n",
    "def locate_max (A):\n",
    "    n = len(A)\n",
    "    max_row = 0;\n",
    "    max_col = 1;\n",
    "    max = abs(A[max_row,max_col])\n",
    "    # Add Nested For Loop here\n",
    "    for i in range(0, n):\n",
    "        for j in range(i+1, n): \n",
    "            temp = abs(A[i,j])\n",
    "            if (temp > max):\n",
    "                max = temp\n",
    "                max_row = i\n",
    "                max_col = j\n",
    "    return [max,max_row,max_col]"
   ]
  },
  {
   "cell_type": "markdown",
   "metadata": {},
   "source": [
    "## Test locate_max on $A$.  What result do you expect?"
   ]
  },
  {
   "cell_type": "code",
   "execution_count": 9,
   "metadata": {},
   "outputs": [
    {
     "name": "stdout",
     "output_type": "stream",
     "text": [
      "2 0 3\n"
     ]
    }
   ],
   "source": [
    "# I expect a max value of 2 at (python) position (0, 3)\n",
    "[max, max_row, max_col] = locate_max(A)\n",
    "print (max,max_row,max_col)"
   ]
  },
  {
   "cell_type": "markdown",
   "metadata": {},
   "source": [
    "## Call givens_rotation to Find a rotation matrix to zero out the maximum off diagonal entry."
   ]
  },
  {
   "cell_type": "code",
   "execution_count": 10,
   "metadata": {},
   "outputs": [
    {
     "name": "stdout",
     "output_type": "stream",
     "text": [
      "[[ 0.70710678  0.          0.          0.70710678]\n",
      " [ 0.          1.          0.          0.        ]\n",
      " [ 0.          0.          1.          0.        ]\n",
      " [-0.70710678  0.          0.          0.70710678]]\n"
     ]
    }
   ],
   "source": [
    "G = givens_rotation(A,max_row,max_col)\n",
    "print (G)"
   ]
  },
  {
   "cell_type": "markdown",
   "metadata": {},
   "source": [
    "## Apply the similarity transform to zero out the maximum off diagonal entry."
   ]
  },
  {
   "cell_type": "code",
   "execution_count": 7,
   "metadata": {},
   "outputs": [
    {
     "name": "stdout",
     "output_type": "stream",
     "text": [
      "[[4.         0.         0.         0.        ]\n",
      " [0.         2.         1.         1.41421356]\n",
      " [0.         1.         2.         1.41421356]\n",
      " [0.         1.41421356 1.41421356 0.        ]]\n"
     ]
    }
   ],
   "source": [
    "print (G.T @ A @ G)"
   ]
  },
  {
   "cell_type": "markdown",
   "metadata": {},
   "source": [
    "## Test locate_max on $G^T A G$.  What result do you expect?  "
   ]
  },
  {
   "cell_type": "code",
   "execution_count": 8,
   "metadata": {},
   "outputs": [
    {
     "name": "stdout",
     "output_type": "stream",
     "text": [
      "1.414213562373095 1 3\n"
     ]
    }
   ],
   "source": [
    "# I expect the max to be less than before so less than 2\n",
    "[max, max_row, max_col] = locate_max(G.T @ A @ G)\n",
    "print (max,max_row,max_col)"
   ]
  },
  {
   "cell_type": "markdown",
   "metadata": {},
   "source": [
    "# Part 2 : Finish the function jacobi_factor"
   ]
  },
  {
   "cell_type": "code",
   "execution_count": 37,
   "metadata": {},
   "outputs": [],
   "source": [
    "# Inputs\n",
    "# A : n x n symmetric matrix (A.T = A)\n",
    "# max_steps : Maximum Number of Iterations\n",
    "# eps : Converges when all off diagonal entries of D have size <= eps\n",
    "# Outputs\n",
    "# flag : TRUE if successful and FALSE otherwise\n",
    "# num : Number of Iterations\n",
    "# D, U : If flag==TRUE, then D is diagonal, U^T U = I, and A = UDU^T\n",
    "def jacobi_factor (A,max_steps,eps):\n",
    "    n = len(A)\n",
    "    D = A\n",
    "    U = np.identity(n)\n",
    "    num = 0\n",
    "    [max,p,q] = locate_max(D)\n",
    "    # Add While Loop Here\n",
    "    while(max > eps and num < max_steps):\n",
    "        G = givens_rotation(D, p, q)\n",
    "        U = U@G\n",
    "        D = U.T @ A @ U\n",
    "        num = num + 1\n",
    "        [max, p , q] = locate_max(D)\n",
    "    return [max <= eps,num,D,U]"
   ]
  },
  {
   "cell_type": "markdown",
   "metadata": {},
   "source": [
    "## Test the jacobi_factor function.  \n",
    "\n",
    "* Does your algorithm converge?\n",
    "* How many iterations were required?\n",
    "* Do your computed eigenvalues agree with the built-in Python function?\n",
    "* Is your $U$ matrix orthogonal?\n",
    "* Does $A = UDU^T$?"
   ]
  },
  {
   "cell_type": "code",
   "execution_count": 21,
   "metadata": {},
   "outputs": [
    {
     "name": "stdout",
     "output_type": "stream",
     "text": [
      "[ 4. -1.  4.  1.]\n"
     ]
    }
   ],
   "source": [
    "print (linalg.eig(A)[0].real)"
   ]
  },
  {
   "cell_type": "code",
   "execution_count": 39,
   "metadata": {},
   "outputs": [
    {
     "name": "stdout",
     "output_type": "stream",
     "text": [
      "True 9 \n",
      "\n",
      " [[ 4.  0.  0.  0.]\n",
      " [ 0.  1.  0.  0.]\n",
      " [ 0.  0.  4. -0.]\n",
      " [ 0.  0. -0. -1.]] \n",
      "\n",
      " [[ 0.70710678  0.         -0.31622777 -0.63245553]\n",
      " [ 0.          0.70710678 -0.63245553  0.31622777]\n",
      " [ 0.         -0.70710678 -0.63245553  0.31622777]\n",
      " [-0.70710678  0.         -0.31622777 -0.63245553]] \n",
      "\n",
      " [[1. 0. 0. 0.]\n",
      " [0. 1. 0. 0.]\n",
      " [0. 0. 1. 0.]\n",
      " [0. 0. 0. 1.]] \n",
      "\n",
      " [[ 2.  1.  1. -2.]\n",
      " [ 1.  2.  1.  1.]\n",
      " [ 1.  1.  2.  1.]\n",
      " [-2.  1.  1.  2.]]\n"
     ]
    }
   ],
   "source": [
    "[flag,num,D,U] = jacobi_factor(A,100,1e-6)\n",
    "print (flag,num,'\\n\\n',D,'\\n\\n',U,'\\n\\n',U.T @ U,'\\n\\n',U @ D @ U.T)"
   ]
  },
  {
   "cell_type": "code",
   "execution_count": null,
   "metadata": {},
   "outputs": [],
   "source": [
    "# Yes it converges after 9 iterations\n",
    "# Yes they are the same\n",
    "# Yes it is U.t @ U = I\n",
    "# Yes A = UDU.T "
   ]
  },
  {
   "cell_type": "markdown",
   "metadata": {},
   "source": [
    "# Part 3 : A Second Test Matrix"
   ]
  },
  {
   "cell_type": "code",
   "execution_count": 40,
   "metadata": {},
   "outputs": [
    {
     "name": "stdout",
     "output_type": "stream",
     "text": [
      "[[ 44  36  -6 -11  19 -29   7  11]\n",
      " [ 36  63 -17  -8  -5  -7  -5  10]\n",
      " [ -6 -17  60  -3  20  34  -5   6]\n",
      " [-11  -8  -3  68  -6  19  12  24]\n",
      " [ 19  -5  20  -6  87  -7  44  14]\n",
      " [-29  -7  34  19  -7  84 -27   6]\n",
      " [  7  -5  -5  12  44 -27  43   8]\n",
      " [ 11  10   6  24  14   6   8  25]]\n"
     ]
    }
   ],
   "source": [
    "# Create a 8x8 symmetric test matrix.\n",
    "M = np.array([[-4,-3,2,1,3,4,2,1],\n",
    "            [1,-2,3,4,5,1,2,3],\n",
    "            [2,1,4,-3,5,2,1,-1],\n",
    "            [1,4,3,-2,-1,2,-2,1],\n",
    "            [2,3,-1,4,1,-3,4,2],\n",
    "            [1,4,-2,3,-1,5,-2,2],\n",
    "            [-1,-2,4,2,-4,3,-3,1],\n",
    "            [4,2,-1,-3,3,-4,1,2]])\n",
    "A = M.T @ M \n",
    "print (A)"
   ]
  },
  {
   "cell_type": "markdown",
   "metadata": {},
   "source": [
    "## Test the jacobi_factor function on the second matrix.  \n",
    "* Does your algorithm converge?\n",
    "* How many iterations were required?\n",
    "* Do your computed eigenvalues agree with the built-in Python function?"
   ]
  },
  {
   "cell_type": "code",
   "execution_count": 41,
   "metadata": {},
   "outputs": [
    {
     "name": "stdout",
     "output_type": "stream",
     "text": [
      "[  0.53405422   6.23152918  11.420927    29.862678    79.03473434\n",
      "  81.2045581  120.92490621 144.78661295]\n"
     ]
    }
   ],
   "source": [
    "print (np.sort(linalg.eig(A)[0].real))"
   ]
  },
  {
   "cell_type": "code",
   "execution_count": 42,
   "metadata": {},
   "outputs": [
    {
     "name": "stdout",
     "output_type": "stream",
     "text": [
      "True 82 \n",
      "\n",
      " [  0.53405422   6.23152918  11.420927    29.862678    79.03473434\n",
      "  81.2045581  120.92490621 144.78661295]\n"
     ]
    }
   ],
   "source": [
    "[flag,num,D,U] = jacobi_factor(A,10000,1e-6)\n",
    "print (flag,num,'\\n\\n',np.sort(np.diag(D)))"
   ]
  },
  {
   "cell_type": "code",
   "execution_count": null,
   "metadata": {},
   "outputs": [],
   "source": [
    "# Yes it converges \n",
    "# It took 82 iterations\n",
    "# Yes all of the eigenvalues match up"
   ]
  }
 ],
 "metadata": {
  "kernelspec": {
   "display_name": "Python 3",
   "language": "python",
   "name": "python3"
  },
  "language_info": {
   "codemirror_mode": {
    "name": "ipython",
    "version": 3
   },
   "file_extension": ".py",
   "mimetype": "text/x-python",
   "name": "python",
   "nbconvert_exporter": "python",
   "pygments_lexer": "ipython3",
   "version": "3.7.0"
  }
 },
 "nbformat": 4,
 "nbformat_minor": 2
}
