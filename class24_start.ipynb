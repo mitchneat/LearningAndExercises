{
 "cells": [
  {
   "cell_type": "code",
   "execution_count": 1,
   "metadata": {},
   "outputs": [],
   "source": [
    "import math \n",
    "import numpy as np\n",
    "from scipy import linalg\n",
    "import matplotlib.pyplot as plt"
   ]
  },
  {
   "cell_type": "code",
   "execution_count": 2,
   "metadata": {},
   "outputs": [],
   "source": [
    "def forward_euler_system (h,n,t0,y0,f):\n",
    "    Y = np.zeros([len(y0),n+1])\n",
    "    tk = t0\n",
    "    Y[:,0] = y0\n",
    "    for k in range(0,n):\n",
    "        Y[:,k+1] = Y[:,k] + h*f(tk,Y[:,k])\n",
    "        tk += h\n",
    "    return Y\n",
    "\n",
    "def heuns(h,n, t0, y0, f):\n",
    "    Y = np.zeros([len(y0),n+1])\n",
    "    tk = t0\n",
    "    Y[:,0] = y0\n",
    "    for k in range(0,n):\n",
    "        f1 = f(tk, Y[:,k])\n",
    "        f2 = f(tk+h,Y[:,k]+h*f1)\n",
    "        Y[:,k+1] = Y[:,k] + (h/2) * (f1+f2)\n",
    "        tk += h\n",
    "    return Y\n",
    "\n",
    "def backward_euler_system_v1 (h,n,t0,y0,A):\n",
    "    Y = np.zeros([len(y0),n+1])\n",
    "    tk = t0\n",
    "    Y[:,0] = y0d\n",
    "    I = np.identity(len(y0))\n",
    "    for k in range(0,n):\n",
    "        Y[:,k+1] = linalg.inv(I-h*A) @ Y[:,k] \n",
    "    return Y\n",
    "\n",
    "\n",
    "def backward_euler_system_v2 (h,n,t0,y0,A,b):\n",
    "    Y = np.zeros([len(y0),n+1])\n",
    "    tk = t0\n",
    "    Y[:,0] = y0\n",
    "    I = np.identity(len(y0))\n",
    "    for k in range(0,n):\n",
    "        Y[:,k+1] = linalg.inv(I-h*A) @ (Y[:,k] + h*b(tk+h))\n",
    "        tk += h\n",
    "    return Y\n",
    "\n",
    "\n",
    "\n",
    "def implicit_trapezoid_system_v1 (h,n,t0,y0,A):\n",
    "    Y = np.zeros([len(y0),n+1])\n",
    "    tk = t0\n",
    "    Y[:,0] = y0\n",
    "    I = np.identity(len(y0))\n",
    "    for k in range(0,n):\n",
    "        Y[:,k+1] = linalg.inv(I-(h/2)*A) @ (I+(h/2)*A) @ Y[:,k] \n",
    "    return Y"
   ]
  },
  {
   "cell_type": "code",
   "execution_count": 3,
   "metadata": {},
   "outputs": [
    {
     "data": {
      "text/plain": [
       "[<matplotlib.lines.Line2D at 0x1b21739ad30>]"
      ]
     },
     "execution_count": 3,
     "metadata": {},
     "output_type": "execute_result"
    },
    {
     "data": {
      "image/png": "[encoded data removed]",
      "text/plain": [
       "<Figure size 432x288 with 1 Axes>"
      ]
     },
     "metadata": {
      "needs_background": "light"
     },
     "output_type": "display_data"
    }
   ],
   "source": [
    "def my_exact(t):\n",
    "    return (1075/104)*np.exp(-t) - (35/104)*np.exp(-25*t) + (5/13)*np.sin(5*t)\n",
    "\n",
    "def my_fun(t,y):\n",
    "    A = np.array([[0,1],[-25,-26]])\n",
    "    b = np.array([0,50*np.cos(5*t)])\n",
    "    return A @ y + b\n",
    "\n",
    "h = 0.05\n",
    "n = 200\n",
    "y0 = np.array([10,0])\n",
    "Y = forward_euler_system (h,n,0,y0,my_fun)\n",
    "t_approx = np.array(range(0,n+1))*h\n",
    "t_exact = np.linspace(0,10,1000)\n",
    "y = my_exact(t_exact)\n",
    "plt.plot (t_exact,y)\n",
    "plt.plot (t_approx,Y[0],'.')"
   ]
  },
  {
   "cell_type": "code",
   "execution_count": 5,
   "metadata": {},
   "outputs": [
    {
     "data": {
      "text/plain": [
       "[<matplotlib.lines.Line2D at 0x1d0e6c67128>]"
      ]
     },
     "execution_count": 5,
     "metadata": {},
     "output_type": "execute_result"
    },
    {
     "data": {
      "image/png": "[encoded data removed]",
      "text/plain": [
       "<Figure size 432x288 with 1 Axes>"
      ]
     },
     "metadata": {
      "needs_background": "light"
     },
     "output_type": "display_data"
    }
   ],
   "source": [
    "h = 0.1\n",
    "n = 100\n",
    "y0 = np.array([10,0])\n",
    "Y = forward_euler_system (h,n,0,y0,my_fun)\n",
    "t_approx = np.array(range(0,n+1))*h\n",
    "t_exact = np.linspace(0,10,1000)\n",
    "y = my_exact(t_exact)\n",
    "plt.plot (t_exact,y)\n",
    "plt.plot (t_approx,Y[0],'.')"
   ]
  },
  {
   "cell_type": "code",
   "execution_count": 13,
   "metadata": {},
   "outputs": [],
   "source": [
    "def backward_euler_system_v1 (h,n,t0,y0,A):\n",
    "    Y = np.zeros([len(y0),n+1])\n",
    "    tk = t0\n",
    "    Y[:,0] = y0\n",
    "    I = np.identity(len(y0))\n",
    "    for k in range(0,n):\n",
    "        Y[:,k+1] = linalg.inv(I-h*A) @ Y[:,k] \n",
    "    return Y"
   ]
  },
  {
   "cell_type": "code",
   "execution_count": 14,
   "metadata": {},
   "outputs": [
    {
     "ename": "TypeError",
     "evalue": "unsupported operand type(s) for *: 'float' and 'function'",
     "output_type": "error",
     "traceback": [
      "\u001b[1;31m---------------------------------------------------------------------------\u001b[0m",
      "\u001b[1;31mTypeError\u001b[0m                                 Traceback (most recent call last)",
      "\u001b[1;32m<ipython-input-14-b02517c27e55>\u001b[0m in \u001b[0;36m<module>\u001b[1;34m()\u001b[0m\n\u001b[0;32m      7\u001b[0m \u001b[0mn\u001b[0m \u001b[1;33m=\u001b[0m \u001b[1;36m10\u001b[0m\u001b[1;33m\u001b[0m\u001b[0m\n\u001b[0;32m      8\u001b[0m \u001b[0my0\u001b[0m \u001b[1;33m=\u001b[0m \u001b[0mnp\u001b[0m\u001b[1;33m.\u001b[0m\u001b[0marray\u001b[0m\u001b[1;33m(\u001b[0m\u001b[1;33m[\u001b[0m\u001b[1;36m1\u001b[0m\u001b[1;33m,\u001b[0m\u001b[1;33m-\u001b[0m\u001b[1;36m1\u001b[0m\u001b[1;33m]\u001b[0m\u001b[1;33m)\u001b[0m\u001b[1;33m\u001b[0m\u001b[0m\n\u001b[1;32m----> 9\u001b[1;33m \u001b[0mY\u001b[0m \u001b[1;33m=\u001b[0m \u001b[0mbackward_euler_system_v1\u001b[0m \u001b[1;33m(\u001b[0m\u001b[0mh\u001b[0m\u001b[1;33m,\u001b[0m\u001b[0mn\u001b[0m\u001b[1;33m,\u001b[0m\u001b[1;36m0\u001b[0m\u001b[1;33m,\u001b[0m\u001b[0my0\u001b[0m\u001b[1;33m,\u001b[0m\u001b[0mmy_funT\u001b[0m\u001b[1;33m)\u001b[0m\u001b[1;33m\u001b[0m\u001b[0m\n\u001b[0m\u001b[0;32m     10\u001b[0m \u001b[0mprint\u001b[0m\u001b[1;33m(\u001b[0m\u001b[0mY\u001b[0m\u001b[1;33m[\u001b[0m\u001b[1;33m:\u001b[0m\u001b[1;33m,\u001b[0m\u001b[1;36m1\u001b[0m\u001b[1;33m]\u001b[0m\u001b[1;33m)\u001b[0m\u001b[1;33m\u001b[0m\u001b[0m\n",
      "\u001b[1;32m<ipython-input-13-8d9ef9ef5af6>\u001b[0m in \u001b[0;36mbackward_euler_system_v1\u001b[1;34m(h, n, t0, y0, A)\u001b[0m\n\u001b[0;32m      5\u001b[0m     \u001b[0mI\u001b[0m \u001b[1;33m=\u001b[0m \u001b[0mnp\u001b[0m\u001b[1;33m.\u001b[0m\u001b[0midentity\u001b[0m\u001b[1;33m(\u001b[0m\u001b[0mlen\u001b[0m\u001b[1;33m(\u001b[0m\u001b[0my0\u001b[0m\u001b[1;33m)\u001b[0m\u001b[1;33m)\u001b[0m\u001b[1;33m\u001b[0m\u001b[0m\n\u001b[0;32m      6\u001b[0m     \u001b[1;32mfor\u001b[0m \u001b[0mk\u001b[0m \u001b[1;32min\u001b[0m \u001b[0mrange\u001b[0m\u001b[1;33m(\u001b[0m\u001b[1;36m0\u001b[0m\u001b[1;33m,\u001b[0m\u001b[0mn\u001b[0m\u001b[1;33m)\u001b[0m\u001b[1;33m:\u001b[0m\u001b[1;33m\u001b[0m\u001b[0m\n\u001b[1;32m----> 7\u001b[1;33m         \u001b[0mY\u001b[0m\u001b[1;33m[\u001b[0m\u001b[1;33m:\u001b[0m\u001b[1;33m,\u001b[0m\u001b[0mk\u001b[0m\u001b[1;33m+\u001b[0m\u001b[1;36m1\u001b[0m\u001b[1;33m]\u001b[0m \u001b[1;33m=\u001b[0m \u001b[0mlinalg\u001b[0m\u001b[1;33m.\u001b[0m\u001b[0minv\u001b[0m\u001b[1;33m(\u001b[0m\u001b[0mI\u001b[0m\u001b[1;33m-\u001b[0m\u001b[0mh\u001b[0m\u001b[1;33m*\u001b[0m\u001b[0mA\u001b[0m\u001b[1;33m)\u001b[0m \u001b[1;33m@\u001b[0m \u001b[0mY\u001b[0m\u001b[1;33m[\u001b[0m\u001b[1;33m:\u001b[0m\u001b[1;33m,\u001b[0m\u001b[0mk\u001b[0m\u001b[1;33m]\u001b[0m\u001b[1;33m\u001b[0m\u001b[0m\n\u001b[0m\u001b[0;32m      8\u001b[0m     \u001b[1;32mreturn\u001b[0m \u001b[0mY\u001b[0m\u001b[1;33m\u001b[0m\u001b[0m\n",
      "\u001b[1;31mTypeError\u001b[0m: unsupported operand type(s) for *: 'float' and 'function'"
     ]
    }
   ],
   "source": [
    "def my_funT(t,y):\n",
    "    A = np.array([[-2,-3],[0,1]])\n",
    "    b = np.array([0,8*t])\n",
    "    return A @ y + b\n",
    "\n",
    "A = np.array([[-2,-3],[0,1]]) + y0\n",
    "h = 0.5\n",
    "n = 10\n",
    "y0 = np.array([1,-1])\n",
    "Y = backward_euler_system_v1 (h,n,0,y0,my_funT)\n",
    "print(Y[:,1])"
   ]
  },
  {
   "cell_type": "code",
   "execution_count": 7,
   "metadata": {},
   "outputs": [
    {
     "data": {
      "text/plain": [
       "[<matplotlib.lines.Line2D at 0x20372f89cf8>]"
      ]
     },
     "execution_count": 7,
     "metadata": {},
     "output_type": "execute_result"
    },
    {
     "data": {
      "image/png": "[encoded data removed]",
      "text/plain": [
       "<Figure size 432x288 with 1 Axes>"
      ]
     },
     "metadata": {
      "needs_background": "light"
     },
     "output_type": "display_data"
    }
   ],
   "source": [
    "h = 0.05\n",
    "n = 200\n",
    "y0 = np.array([10,0])\n",
    "Y = heuns(h,n,0,y0,my_fun)\n",
    "t_approx = np.array(range(0,n+1))*h\n",
    "t_exact = np.linspace(0,10,1000)\n",
    "y = my_exact(t_exact)\n",
    "plt.plot (t_exact,y)\n",
    "plt.plot (t_approx,Y[0],'.')"
   ]
  },
  {
   "cell_type": "code",
   "execution_count": null,
   "metadata": {},
   "outputs": [],
   "source": [
    "#works for h = 0.05"
   ]
  },
  {
   "cell_type": "code",
   "execution_count": 9,
   "metadata": {},
   "outputs": [
    {
     "data": {
      "text/plain": [
       "[<matplotlib.lines.Line2D at 0x2037330a898>]"
      ]
     },
     "execution_count": 9,
     "metadata": {},
     "output_type": "execute_result"
    },
    {
     "data": {
      "image/png": "[encoded data removed]",
      "text/plain": [
       "<Figure size 432x288 with 1 Axes>"
      ]
     },
     "metadata": {
      "needs_background": "light"
     },
     "output_type": "display_data"
    }
   ],
   "source": [
    "h = 0.1\n",
    "n = 100\n",
    "y0 = np.array([10,0])\n",
    "Y = heuns(h,n,0,y0,my_fun)\n",
    "t_approx = np.array(range(0,n+1))*h\n",
    "t_exact = np.linspace(0,10,1000)\n",
    "y = my_exact(t_exact)\n",
    "plt.plot (t_exact,y)\n",
    "plt.plot (t_approx,Y[0],'.')"
   ]
  },
  {
   "cell_type": "code",
   "execution_count": null,
   "metadata": {},
   "outputs": [],
   "source": [
    "# doesn't work for h = 0.1"
   ]
  },
  {
   "cell_type": "code",
   "execution_count": 21,
   "metadata": {},
   "outputs": [],
   "source": [
    "def myfun_b(t):\n",
    "    b = np.array([0, 50*np.cos(5*t)])\n",
    "    return b"
   ]
  },
  {
   "cell_type": "code",
   "execution_count": 28,
   "metadata": {},
   "outputs": [],
   "source": [
    "def backward_euler_system_v2 (h,n,t0,y0,A,b):\n",
    "    Y = np.zeros([len(y0),n+1])\n",
    "    tk = t0\n",
    "    Y[:,0] = y0\n",
    "    I = np.identity(len(y0))\n",
    "    for k in range(0,n):\n",
    "        Y[:,k+1] = linalg.inv(I-h*A) @ (Y[:,k] + h*b(tk+h))\n",
    "        tk += h\n",
    "    return Y"
   ]
  },
  {
   "cell_type": "code",
   "execution_count": 29,
   "metadata": {},
   "outputs": [
    {
     "data": {
      "text/plain": [
       "[<matplotlib.lines.Line2D at 0x1d0e6faeb70>]"
      ]
     },
     "execution_count": 29,
     "metadata": {},
     "output_type": "execute_result"
    },
    {
     "data": {
      "image/png": "[encoded data removed]",
      "text/plain": [
       "<Figure size 432x288 with 1 Axes>"
      ]
     },
     "metadata": {
      "needs_background": "light"
     },
     "output_type": "display_data"
    }
   ],
   "source": [
    "h = 0.1\n",
    "n = 100\n",
    "myA = np.array([[0,1],[-25,-26]])\n",
    "y0 = np.array([10,0])\n",
    "Y = backward_euler_system_v2(h,n,0,y0,myA, myfun_b)\n",
    "t_approx = np.array(range(0,n+1))*h\n",
    "t_exact = np.linspace(0,10,1000)\n",
    "y = my_exact(t_exact)\n",
    "plt.plot (t_exact,y)\n",
    "plt.plot (t_approx,Y[0],'.')"
   ]
  },
  {
   "cell_type": "code",
   "execution_count": 30,
   "metadata": {},
   "outputs": [
    {
     "data": {
      "text/plain": [
       "[<matplotlib.lines.Line2D at 0x1d0e701fa58>]"
      ]
     },
     "execution_count": 30,
     "metadata": {},
     "output_type": "execute_result"
    },
    {
     "data": {
      "image/png": "[encoded data removed]",
      "text/plain": [
       "<Figure size 432x288 with 1 Axes>"
      ]
     },
     "metadata": {
      "needs_background": "light"
     },
     "output_type": "display_data"
    }
   ],
   "source": [
    "h = 0.2\n",
    "n = 50\n",
    "myA = np.array([[0,1],[-25,-26]])\n",
    "y0 = np.array([10,0])\n",
    "Y = backward_euler_system_v2(h,n,0,y0,myA, myfun_b)\n",
    "t_approx = np.array(range(0,n+1))*h\n",
    "t_exact = np.linspace(0,10,1000)\n",
    "y = my_exact(t_exact)\n",
    "plt.plot (t_exact,y)\n",
    "plt.plot (t_approx,Y[0],'.')"
   ]
  },
  {
   "cell_type": "code",
   "execution_count": 31,
   "metadata": {},
   "outputs": [],
   "source": [
    "def implicit_trapezoid_system_v2 (h,n,t0,y0,A, myfunB_2):\n",
    "    Y = np.zeros([len(y0),n+1])\n",
    "    tk = t0\n",
    "    Y[:,0] = y0\n",
    "    I = np.identity(len(y0))\n",
    "    for k in range(0,n):\n",
    "        Y[:,k+1] = linalg.inv(I-(h/2)*A) @ (I+(h/2)*A) @ Y[:,k] \n",
    "    return Y"
   ]
  },
  {
   "cell_type": "code",
   "execution_count": null,
   "metadata": {},
   "outputs": [],
   "source": [
    "h = 0.2\n",
    "n = 50\n",
    "myA = np.array([[0,1],[-25,-26]])\n",
    "y0 = np.array([10,0])\n",
    "Y = implicit_trapezoid_system_v2(h,n,0,y0,myA, myfun_b)\n",
    "t_approx = np.array(range(0,n+1))*h\n",
    "t_exact = np.linspace(0,10,1000)\n",
    "y = my_exact(t_exact)\n",
    "plt.plot (t_exact,y)\n",
    "plt.plot (t_approx,Y[0],'.')"
   ]
  }
 ],
 "metadata": {
  "kernelspec": {
   "display_name": "Python 3",
   "language": "python",
   "name": "python3"
  },
  "language_info": {
   "codemirror_mode": {
    "name": "ipython",
    "version": 3
   },
   "file_extension": ".py",
   "mimetype": "text/x-python",
   "name": "python",
   "nbconvert_exporter": "python",
   "pygments_lexer": "ipython3",
   "version": "3.7.0"
  }
 },
 "nbformat": 4,
 "nbformat_minor": 2
}
