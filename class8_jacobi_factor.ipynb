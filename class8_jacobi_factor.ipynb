{
 "cells": [
  {
   "cell_type": "code",
   "execution_count": 2,
   "metadata": {},
   "outputs": [],
   "source": [
    "import math \n",
    "import numpy as np\n",
    "from scipy import linalg\n",
    "import matplotlib.pyplot as plt\n",
    "np.set_printoptions(suppress=True)"
   ]
  },
  {
   "cell_type": "markdown",
   "metadata": {},
   "source": [
    "# Givens Rotation Matrix"
   ]
  },
  {
   "cell_type": "code",
   "execution_count": 3,
   "metadata": {},
   "outputs": [],
   "source": [
    "# Inputs\n",
    "# A : n x n symmetric matrix (A.T = A)\n",
    "# p,q : row and column to zero out\n",
    "# Outputs\n",
    "# U : Orthogonal Matrix such that (U^T A U)_pq = (U^T A U)_qp = 0\n",
    "def givens_rotation (A,p,q):\n",
    "    U = np.identity(len(A))\n",
    "    if (A[p,q] != 0):\n",
    "        temp = (A[p,p] - A[q,q])/A[p,q]\n",
    "        root = (temp + math.sqrt(temp**2+4))/2\n",
    "        c = 1/math.sqrt(1+root**2)\n",
    "        s = c*root\n",
    "        U[p,p] = c\n",
    "        U[p,q] = s\n",
    "        U[q,p] = -s\n",
    "        U[q,q] = c\n",
    "    return (U)"
   ]
  },
  {
   "cell_type": "markdown",
   "metadata": {},
   "source": [
    "# Example 1 \n",
    "# $$A = \\begin{bmatrix} 1 & 2 \\\\ 2 & 1 \\end{bmatrix}$$"
   ]
  },
  {
   "cell_type": "code",
   "execution_count": null,
   "metadata": {},
   "outputs": [],
   "source": [
    "A = np.array([[1,2],[2,1]])\n",
    "print (A)\n",
    "print(linalg.eig(A)[0])"
   ]
  },
  {
   "cell_type": "code",
   "execution_count": null,
   "metadata": {},
   "outputs": [],
   "source": [
    "U = givens_rotation (A,0,1)\n",
    "print (U,'\\n\\n',U.T @ U)"
   ]
  },
  {
   "cell_type": "code",
   "execution_count": null,
   "metadata": {},
   "outputs": [],
   "source": [
    "D = U.T @ A @ U\n",
    "print (D)"
   ]
  },
  {
   "cell_type": "code",
   "execution_count": null,
   "metadata": {},
   "outputs": [],
   "source": [
    "print (U @ D @ U.T)"
   ]
  },
  {
   "cell_type": "markdown",
   "metadata": {},
   "source": [
    "# Example 2 \n",
    "# $$A = \\begin{bmatrix} 1 & 0 & -1 \\\\ 0 & 1 & 0 \\\\ -1 & 0 & 1  \\end{bmatrix}$$"
   ]
  },
  {
   "cell_type": "code",
   "execution_count": null,
   "metadata": {},
   "outputs": [],
   "source": [
    "A = np.array([[1,0,-1],[0,1,0],[-1,0,1]])\n",
    "print (A)\n",
    "print(linalg.eig(A)[0])"
   ]
  },
  {
   "cell_type": "code",
   "execution_count": null,
   "metadata": {},
   "outputs": [],
   "source": [
    "U = givens_rotation (A,0,2)\n",
    "print (U,'\\n\\n',U.T @ U)"
   ]
  },
  {
   "cell_type": "code",
   "execution_count": null,
   "metadata": {},
   "outputs": [],
   "source": [
    "D = U.T @ A @ U\n",
    "print (D)"
   ]
  },
  {
   "cell_type": "code",
   "execution_count": null,
   "metadata": {},
   "outputs": [],
   "source": [
    "print (U @ D @ U.T)"
   ]
  },
  {
   "cell_type": "markdown",
   "metadata": {},
   "source": [
    "# Example 3 \n",
    "# $$A = \\begin{bmatrix} 2 & 3 & 0 \\\\ 3 & 2 & 4 \\\\ 0 & 4 & 2 \\end{bmatrix}$$"
   ]
  },
  {
   "cell_type": "code",
   "execution_count": 3,
   "metadata": {},
   "outputs": [
    {
     "name": "stdout",
     "output_type": "stream",
     "text": [
      "[[2 3 0]\n",
      " [3 2 4]\n",
      " [0 4 2]]\n",
      "[ 7.+0.j  2.+0.j -3.+0.j]\n"
     ]
    }
   ],
   "source": [
    "A = np.array([[2,3,0],[3,2,4],[0,4,2]])\n",
    "print (A)\n",
    "print(linalg.eig(A)[0])"
   ]
  },
  {
   "cell_type": "code",
   "execution_count": 1,
   "metadata": {},
   "outputs": [
    {
     "ename": "NameError",
     "evalue": "name 'givens_rotation' is not defined",
     "output_type": "error",
     "traceback": [
      "\u001b[1;31m---------------------------------------------------------------------------\u001b[0m",
      "\u001b[1;31mNameError\u001b[0m                                 Traceback (most recent call last)",
      "\u001b[1;32m<ipython-input-1-1ef8e1b60eff>\u001b[0m in \u001b[0;36m<module>\u001b[1;34m()\u001b[0m\n\u001b[1;32m----> 1\u001b[1;33m \u001b[0mU\u001b[0m \u001b[1;33m=\u001b[0m \u001b[0mgivens_rotation\u001b[0m \u001b[1;33m(\u001b[0m\u001b[0mA\u001b[0m\u001b[1;33m,\u001b[0m\u001b[1;36m1\u001b[0m\u001b[1;33m,\u001b[0m\u001b[1;36m2\u001b[0m\u001b[1;33m)\u001b[0m\u001b[1;33m\u001b[0m\u001b[0m\n\u001b[0m\u001b[0;32m      2\u001b[0m \u001b[0mprint\u001b[0m \u001b[1;33m(\u001b[0m\u001b[0mU\u001b[0m\u001b[1;33m,\u001b[0m\u001b[1;34m'\\n\\n'\u001b[0m\u001b[1;33m,\u001b[0m\u001b[0mU\u001b[0m\u001b[1;33m.\u001b[0m\u001b[0mT\u001b[0m \u001b[1;33m@\u001b[0m \u001b[0mU\u001b[0m\u001b[1;33m)\u001b[0m\u001b[1;33m\u001b[0m\u001b[0m\n",
      "\u001b[1;31mNameError\u001b[0m: name 'givens_rotation' is not defined"
     ]
    }
   ],
   "source": [
    "U = givens_rotation (A,1,2)\n",
    "print (U,'\\n\\n',U.T @ U)"
   ]
  },
  {
   "cell_type": "code",
   "execution_count": 7,
   "metadata": {},
   "outputs": [
    {
     "name": "stdout",
     "output_type": "stream",
     "text": [
      "[[ 2.          2.12132034  2.12132034]\n",
      " [ 2.12132034 -2.          0.        ]\n",
      " [ 2.12132034  0.          6.        ]]\n"
     ]
    }
   ],
   "source": [
    "D = U.T @ A @ U\n",
    "print (D)"
   ]
  },
  {
   "cell_type": "code",
   "execution_count": 8,
   "metadata": {},
   "outputs": [
    {
     "name": "stdout",
     "output_type": "stream",
     "text": [
      "[[ 0.39623583  0.91814877  0.        ]\n",
      " [-0.64922922  0.28018104  0.70710678]\n",
      " [ 0.64922922 -0.28018104  0.70710678]] \n",
      "\n",
      " [[1. 0. 0.]\n",
      " [0. 1. 0.]\n",
      " [0. 0. 1.]]\n"
     ]
    }
   ],
   "source": [
    "U = U @ givens_rotation (D,0,1)\n",
    "print (U,'\\n\\n',U.T @ U)"
   ]
  },
  {
   "cell_type": "code",
   "execution_count": 9,
   "metadata": {},
   "outputs": [
    {
     "name": "stdout",
     "output_type": "stream",
     "text": [
      "[[-2.91547595 -0.          0.84054312]\n",
      " [-0.          2.91547595  1.94768767]\n",
      " [ 0.84054312  1.94768767  6.        ]]\n"
     ]
    }
   ],
   "source": [
    "D = U.T @ A @ U\n",
    "print (D)"
   ]
  },
  {
   "cell_type": "code",
   "execution_count": 11,
   "metadata": {},
   "outputs": [
    {
     "name": "stdout",
     "output_type": "stream",
     "text": [
      "[[-2.91547595 -0.7566727  -0.36600431]\n",
      " [-0.7566727   6.94210096  0.        ]\n",
      " [-0.36600431  0.          1.97337499]]\n"
     ]
    }
   ],
   "source": [
    "U = U @ givens_rotation (D,1,2)\n",
    "D = U.T @ A @ U\n",
    "print (D)"
   ]
  },
  {
   "cell_type": "code",
   "execution_count": 12,
   "metadata": {},
   "outputs": [
    {
     "name": "stdout",
     "output_type": "stream",
     "text": [
      "[[ 2.00062406 -0.0561789   0.        ]\n",
      " [-0.0561789   6.94210096 -0.75458433]\n",
      " [ 0.         -0.75458433 -2.94272502]]\n"
     ]
    }
   ],
   "source": [
    "U = U @ givens_rotation (D,0,2)\n",
    "D = U.T @ A @ U\n",
    "print (D)"
   ]
  },
  {
   "cell_type": "code",
   "execution_count": 13,
   "metadata": {},
   "outputs": [
    {
     "name": "stdout",
     "output_type": "stream",
     "text": [
      "[[ 6.94273956  0.          0.75453558]\n",
      " [ 0.          1.99998546 -0.00857709]\n",
      " [ 0.75453558 -0.00857709 -2.94272502]]\n"
     ]
    }
   ],
   "source": [
    "U = U @ givens_rotation (D,0,1)\n",
    "D = U.T @ A @ U\n",
    "print (D)"
   ]
  },
  {
   "cell_type": "code",
   "execution_count": 14,
   "metadata": {},
   "outputs": [
    {
     "name": "stdout",
     "output_type": "stream",
     "text": [
      "[[-2.99998537  0.0085525  -0.        ]\n",
      " [ 0.0085525   1.99998546 -0.00064903]\n",
      " [-0.         -0.00064903  6.99999992]]\n"
     ]
    }
   ],
   "source": [
    "U = U @ givens_rotation (D,0,2)\n",
    "D = U.T @ A @ U\n",
    "print (D)"
   ]
  },
  {
   "cell_type": "code",
   "execution_count": 15,
   "metadata": {},
   "outputs": [
    {
     "name": "stdout",
     "output_type": "stream",
     "text": [
      "[[-2.99998537  0.00000111  0.0085525 ]\n",
      " [ 0.00000111  7.          0.        ]\n",
      " [ 0.0085525   0.          1.99998537]]\n"
     ]
    }
   ],
   "source": [
    "U = U @ givens_rotation (D,1,2)\n",
    "D = U.T @ A @ U\n",
    "print (D)"
   ]
  },
  {
   "cell_type": "code",
   "execution_count": 16,
   "metadata": {},
   "outputs": [
    {
     "name": "stdout",
     "output_type": "stream",
     "text": [
      "[[-3.          0.00000111 -0.        ]\n",
      " [ 0.00000111  7.          0.        ]\n",
      " [-0.          0.          2.        ]]\n"
     ]
    }
   ],
   "source": [
    "U = U @ givens_rotation (D,0,2)\n",
    "D = U.T @ A @ U\n",
    "print (D)"
   ]
  },
  {
   "cell_type": "code",
   "execution_count": 17,
   "metadata": {},
   "outputs": [
    {
     "name": "stdout",
     "output_type": "stream",
     "text": [
      "[[2. 3. 0.]\n",
      " [3. 2. 4.]\n",
      " [0. 4. 2.]]\n"
     ]
    }
   ],
   "source": [
    "print (U @ D @ U.T)"
   ]
  },
  {
   "cell_type": "markdown",
   "metadata": {},
   "source": [
    "# Example 4 \n",
    "# $$A = \\begin{bmatrix} 2 & 1 & 1 & -2 \\\\ 1 & 2 & 1 & 1 \\\\ 1 & 1 & 2 & 1 \\\\ -2 & 1 & 1 & 2 \\end{bmatrix}$$"
   ]
  },
  {
   "cell_type": "code",
   "execution_count": 18,
   "metadata": {},
   "outputs": [
    {
     "name": "stdout",
     "output_type": "stream",
     "text": [
      "[[ 2  1  1 -2]\n",
      " [ 1  2  1  1]\n",
      " [ 1  1  2  1]\n",
      " [-2  1  1  2]] \n",
      "\n",
      " [ 4.+0.j -1.+0.j  4.+0.j  1.+0.j]\n"
     ]
    }
   ],
   "source": [
    "A = np.array([[2,1,1,-2],[1,2,1,1],[1,1,2,1],[-2,1,1,2]])\n",
    "print (A,'\\n\\n',linalg.eig(A)[0])"
   ]
  },
  {
   "cell_type": "markdown",
   "metadata": {},
   "source": [
    "## Exercise 1 : Locate Maximum Off Diagonal Entry"
   ]
  },
  {
   "cell_type": "code",
   "execution_count": 31,
   "metadata": {},
   "outputs": [
    {
     "ename": "SyntaxError",
     "evalue": "invalid syntax (<ipython-input-31-7e6503c2624a>, line 12)",
     "output_type": "error",
     "traceback": [
      "\u001b[1;36m  File \u001b[1;32m\"<ipython-input-31-7e6503c2624a>\"\u001b[1;36m, line \u001b[1;32m12\u001b[0m\n\u001b[1;33m    for(i = 0; i<n; i++){\u001b[0m\n\u001b[1;37m          ^\u001b[0m\n\u001b[1;31mSyntaxError\u001b[0m\u001b[1;31m:\u001b[0m invalid syntax\n"
     ]
    }
   ],
   "source": [
    "# Inputs\n",
    "# A : n x n symmetric matrix (A.T = A)\n",
    "# Outputs\n",
    "# max : maximum size off diagonal entry\n",
    "# max_row, max_col : location of maximum size off diagonal entry\n",
    "def locate_max (A):\n",
    "    n = len(A)\n",
    "    max_row = 0;\n",
    "    max_col = 1;\n",
    "    max = abs(A[max_row,max_col])\n",
    "    # Add Nested For Loop here\n",
    "    for(i = 0; i<n; i++){\n",
    "        for(j=1; j<n; j++){\n",
    "            temp = abs(A[i,j])\n",
    "            if (temp > max){\n",
    "                max = temp\n",
    "            }\n",
    "        }\n",
    "    }\n",
    "    return [max,max_row,max_col]"
   ]
  },
  {
   "cell_type": "code",
   "execution_count": 21,
   "metadata": {},
   "outputs": [
    {
     "name": "stdout",
     "output_type": "stream",
     "text": [
      "[1, 0, 1]\n"
     ]
    }
   ],
   "source": [
    "print (locate_max(A))"
   ]
  },
  {
   "cell_type": "markdown",
   "metadata": {},
   "source": [
    "## Exercise 2 : Jacobi Eigenvalue Method"
   ]
  },
  {
   "cell_type": "code",
   "execution_count": 23,
   "metadata": {},
   "outputs": [],
   "source": [
    "# Inputs\n",
    "# A : n x n symmetric matrix (A.T = A)\n",
    "# max_steps : Maximum Number of Iterations\n",
    "# eps : Converges when all off diagonal entries of D have size <= eps\n",
    "# Outputs\n",
    "# flag : TRUE if successful and FALSE otherwise\n",
    "# num : Number of Iterations\n",
    "# D, U : If flag==TRUE, then D is diagonal, U^T U = I, and A = UDU^T\n",
    "def jacobi_factor (A,max_steps,eps):\n",
    "    n = len(A)\n",
    "    D = A\n",
    "    U = np.identity(n)\n",
    "    num = 0\n",
    "    [max,p,q] = locate_max(D)\n",
    "    # Add While Loop Here\n",
    "    return [max <= eps,num,D,U]"
   ]
  },
  {
   "cell_type": "code",
   "execution_count": 24,
   "metadata": {},
   "outputs": [],
   "source": [
    "[flag,num,D,U] = jacobi_factor(A,1000,1e-6)"
   ]
  },
  {
   "cell_type": "code",
   "execution_count": 25,
   "metadata": {},
   "outputs": [
    {
     "name": "stdout",
     "output_type": "stream",
     "text": [
      "False 0 \n",
      "\n",
      " [[ 2  1  1 -2]\n",
      " [ 1  2  1  1]\n",
      " [ 1  1  2  1]\n",
      " [-2  1  1  2]] \n",
      "\n",
      " [[1. 0. 0. 0.]\n",
      " [0. 1. 0. 0.]\n",
      " [0. 0. 1. 0.]\n",
      " [0. 0. 0. 1.]] \n",
      "\n",
      " [[1. 0. 0. 0.]\n",
      " [0. 1. 0. 0.]\n",
      " [0. 0. 1. 0.]\n",
      " [0. 0. 0. 1.]] \n",
      "\n",
      " [[ 2.  1.  1. -2.]\n",
      " [ 1.  2.  1.  1.]\n",
      " [ 1.  1.  2.  1.]\n",
      " [-2.  1.  1.  2.]]\n"
     ]
    }
   ],
   "source": [
    "print (flag,num,'\\n\\n',D,'\\n\\n',U,'\\n\\n',U.T @ U,'\\n\\n',U @ D @ U.T)"
   ]
  },
  {
   "cell_type": "code",
   "execution_count": null,
   "metadata": {},
   "outputs": [],
   "source": []
  }
 ],
 "metadata": {
  "kernelspec": {
   "display_name": "Python 3",
   "language": "python",
   "name": "python3"
  },
  "language_info": {
   "codemirror_mode": {
    "name": "ipython",
    "version": 3
   },
   "file_extension": ".py",
   "mimetype": "text/x-python",
   "name": "python",
   "nbconvert_exporter": "python",
   "pygments_lexer": "ipython3",
   "version": "3.7.0"
  }
 },
 "nbformat": 4,
 "nbformat_minor": 2
}
