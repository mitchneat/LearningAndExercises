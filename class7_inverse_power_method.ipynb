{
 "cells": [
  {
   "cell_type": "code",
   "execution_count": 1,
   "metadata": {},
   "outputs": [],
   "source": [
    "import math \n",
    "import numpy as np\n",
    "from scipy import linalg\n",
    "import matplotlib.pyplot as plt"
   ]
  },
  {
   "cell_type": "markdown",
   "metadata": {},
   "source": [
    "# Complete the Following Implementation of the Power Method"
   ]
  },
  {
   "cell_type": "code",
   "execution_count": 17,
   "metadata": {},
   "outputs": [],
   "source": [
    "# A : An n x n matrix\n",
    "# v : The initial nonzero eigenvector guess\n",
    "# max_steps : The maximum number of steps allowed\n",
    "# eps : How small residual must be for convergence\n",
    "# X : The rows contain the eigenvector approximations x_0, x_1, ..., x_{max_steps}\n",
    "# L : The eigenvalue approximations lambda_0, lambda_1, ..., lambda_{max_steps}\n",
    "# R : The residuals r_0, r_1, ..., r_{max_steps}\n",
    "def power_method(A,v,max_steps,eps,X,L,R):\n",
    "    X[0,:] = v/linalg.norm(v)\n",
    "    L[0] = np.inner(A @ X[0,:],X[0,:])\n",
    "    R[0] = linalg.norm(A @ X[0,:] - L[0]*X[0,:])\n",
    "    num = 0\n",
    "    while (R[num] > eps and num < max_steps):\n",
    "        X[num+1,:] = A @ X[num,:]\n",
    "        X[num+1,:] = X[num+1,:]/linalg.norm(X[num+1,:])\n",
    "        L[num+1] = np.inner(A @ X[num+1,:], X[num+1,:])\n",
    "        R[num+1] = linalg.norm(A @ X[num+1,:] - L[num+1]*X[num+1,:])\n",
    "        num = num + 1\n",
    "    return [R[num] <= eps,num]"
   ]
  },
  {
   "cell_type": "code",
   "execution_count": 23,
   "metadata": {},
   "outputs": [
    {
     "name": "stdout",
     "output_type": "stream",
     "text": [
      "True 33\n"
     ]
    },
    {
     "data": {
      "image/png": "[encoded data removed]",
      "text/plain": [
       "<Figure size 432x288 with 1 Axes>"
      ]
     },
     "metadata": {
      "needs_background": "light"
     },
     "output_type": "display_data"
    }
   ],
   "source": [
    "n = 3\n",
    "A = np.array([[3,-9,-1],[0,-6,0],[-1,1,3]])\n",
    "# The eigenvalues of A are 4, 2, -6\n",
    "v = np.random.rand(n)\n",
    "max_steps = 100\n",
    "eps = 1e-5\n",
    "X = np.zeros([max_steps+1,n])\n",
    "L = np.zeros(max_steps+1)\n",
    "R = np.ones(max_steps+1)\n",
    "[flag,num] = power_method(A,v,max_steps,eps,X,L,R)\n",
    "K = range(num+1)\n",
    "plt.bar(K,X[0:num+1,0])\n",
    "lower = X[0:num+1,0]\n",
    "for i in range(1,n):\n",
    "    plt.bar(K,X[0:num+1,i],bottom = lower)\n",
    "    lower = lower + X[0:num+1,i]\n",
    "print (flag,num)"
   ]
  },
  {
   "cell_type": "code",
   "execution_count": 19,
   "metadata": {},
   "outputs": [
    {
     "data": {
      "text/plain": [
       "<matplotlib.collections.PathCollection at 0x1fc40e961d0>"
      ]
     },
     "execution_count": 19,
     "metadata": {},
     "output_type": "execute_result"
    },
    {
     "data": {
      "image/png": "[encoded data removed]",
      "text/plain": [
       "<Figure size 432x288 with 1 Axes>"
      ]
     },
     "metadata": {
      "needs_background": "light"
     },
     "output_type": "display_data"
    }
   ],
   "source": [
    "plt.scatter(K,L[0:num+1])"
   ]
  },
  {
   "cell_type": "code",
   "execution_count": 20,
   "metadata": {},
   "outputs": [
    {
     "data": {
      "text/plain": [
       "<matplotlib.collections.PathCollection at 0x1fc417ea4e0>"
      ]
     },
     "execution_count": 20,
     "metadata": {},
     "output_type": "execute_result"
    },
    {
     "data": {
      "image/png": "[encoded data removed]",
      "text/plain": [
       "<Figure size 432x288 with 1 Axes>"
      ]
     },
     "metadata": {
      "needs_background": "light"
     },
     "output_type": "display_data"
    }
   ],
   "source": [
    "plt.scatter(K,R[0:num+1])"
   ]
  },
  {
   "cell_type": "markdown",
   "metadata": {},
   "source": [
    "# Some Useful Functions"
   ]
  },
  {
   "cell_type": "code",
   "execution_count": 22,
   "metadata": {},
   "outputs": [
    {
     "name": "stdout",
     "output_type": "stream",
     "text": [
      "[[1. 0. 0. 0.]\n",
      " [0. 1. 0. 0.]\n",
      " [0. 0. 1. 0.]\n",
      " [0. 0. 0. 1.]]\n"
     ]
    }
   ],
   "source": [
    "n = 4\n",
    "I = np.identity(n)\n",
    "print (I)"
   ]
  },
  {
   "cell_type": "code",
   "execution_count": 173,
   "metadata": {},
   "outputs": [
    {
     "name": "stdout",
     "output_type": "stream",
     "text": [
      "[[ 0.5 -0.5]\n",
      " [ 0.5  0.5]]\n"
     ]
    }
   ],
   "source": [
    "A = np.array([[1,1],[-1,1]])\n",
    "print (linalg.inv(A))"
   ]
  },
  {
   "cell_type": "markdown",
   "metadata": {},
   "source": [
    "# Use the Inverse Power Method to Find all Eigenvalues of\n",
    "$$A = \\begin{bmatrix} 10 & 1 & 2 &\n",
    "  1 \\\\ -2 & 20 & 1 & -1 \\\\ -1 & 2 & 30 & 1 \\\\ 2 & -1 & 1 &\n",
    "  40 \\end{bmatrix}$$\n",
    "### Be sure to verify convergence!"
   ]
  },
  {
   "cell_type": "code",
   "execution_count": 174,
   "metadata": {},
   "outputs": [],
   "source": [
    "n = 4\n",
    "A = np.array([[10,1,2,1],[-2,20,1,-1],[-1,2,30,1],[2,-1,1,40]])\n",
    "v = np.random.rand(n)\n",
    "max_steps = 100\n",
    "eps = 1e-5\n",
    "X = np.zeros([max_steps+1,n])\n",
    "L = np.zeros(max_steps+1)\n",
    "R = np.ones(max_steps+1)"
   ]
  },
  {
   "cell_type": "code",
   "execution_count": null,
   "metadata": {},
   "outputs": [],
   "source": []
  }
 ],
 "metadata": {
  "kernelspec": {
   "display_name": "Python 3",
   "language": "python",
   "name": "python3"
  },
  "language_info": {
   "codemirror_mode": {
    "name": "ipython",
    "version": 3
   },
   "file_extension": ".py",
   "mimetype": "text/x-python",
   "name": "python",
   "nbconvert_exporter": "python",
   "pygments_lexer": "ipython3",
   "version": "3.7.0"
  }
 },
 "nbformat": 4,
 "nbformat_minor": 2
}
