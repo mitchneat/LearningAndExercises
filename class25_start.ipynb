{
 "cells": [
  {
   "cell_type": "code",
   "execution_count": 1,
   "metadata": {},
   "outputs": [],
   "source": [
    "import math \n",
    "import numpy as np\n",
    "from scipy import linalg\n",
    "import matplotlib.pyplot as plt"
   ]
  },
  {
   "cell_type": "code",
   "execution_count": 2,
   "metadata": {},
   "outputs": [],
   "source": [
    "def forward_euler_system (h,n,t0,y0,f):\n",
    "    Y = np.zeros([len(y0),n+1])\n",
    "    tk = t0\n",
    "    Y[:,0] = y0\n",
    "    for k in range(0,n):\n",
    "        Y[:,k+1] = Y[:,k] + h*f(tk,Y[:,k])\n",
    "        tk += h\n",
    "    return Y\n",
    "\n",
    "def runge_kutta_system (h,n,t0,y0,f):\n",
    "    Y = np.zeros([len(y0),n+1])\n",
    "    tk = t0\n",
    "    Y[:,0] = y0\n",
    "    for k in range(0,n):\n",
    "        f1 = f(tk,Y[:,k])\n",
    "        f2 = f(tk+(h/2),Y[:,k]+(h/2)*f1)\n",
    "        f3 = f(tk+(h/2),Y[:,k]+(h/2)*f2)\n",
    "        f4 = f(tk+h,Y[:,k]+h*f3)\n",
    "        Y[:,k+1] = Y[:,k] + (h/6)*(f1+2*f2+2*f3+f4)\n",
    "        tk += h\n",
    "    return Y"
   ]
  },
  {
   "cell_type": "code",
   "execution_count": 3,
   "metadata": {},
   "outputs": [],
   "source": [
    "def newtonsMethod (g,jac,x0,eps,max_steps):\n",
    "    x = x0\n",
    "    num_steps = 0\n",
    "    while (linalg.norm(g(x)) > eps) and (num_steps < max_steps):\n",
    "        x = x - linalg.inv (jac(x)) @ g(x)\n",
    "        num_steps += 1\n",
    "    return [linalg.norm(g(x)) <= eps, x, num_steps]"
   ]
  },
  {
   "cell_type": "code",
   "execution_count": 4,
   "metadata": {},
   "outputs": [],
   "source": [
    "def backward_euler_system (h,n,t0,y0,f,jac,eps,max_steps):\n",
    "    tk = t0\n",
    "    I = np.identity(len(y0))\n",
    "    max_num_steps = 0\n",
    "    \n",
    "    def back_g (x):\n",
    "        return (x - Y[:,k] - h*f(tk+h,x))\n",
    "        \n",
    "    def back_jac (x):\n",
    "        return I - h*jac(tk+h,x)\n",
    "        \n",
    "    Y = np.zeros([len(y0),n+1])\n",
    "    Y[:,0] = y0\n",
    "    I = np.identity(len(y0))\n",
    "    for k in range(0,n):\n",
    "        [flag,x,num_steps] = newtonsMethod (\n",
    "            back_g,back_jac,Y[:,k],eps,max_steps)\n",
    "        if num_steps > max_num_steps:\n",
    "            max_num_steps = num_steps\n",
    "        if flag:\n",
    "            Y[:,k+1] = x\n",
    "        else:\n",
    "            return [False,Y,max_num_steps]\n",
    "        tk += h\n",
    "    return [True,Y,max_num_steps]"
   ]
  },
  {
   "cell_type": "code",
   "execution_count": 5,
   "metadata": {},
   "outputs": [
    {
     "name": "stdout",
     "output_type": "stream",
     "text": [
      "Maximum Number of Steps (Newton's Method) =  1\n"
     ]
    },
    {
     "data": {
      "image/png": "[encoded data removed]",
      "text/plain": [
       "<Figure size 432x288 with 1 Axes>"
      ]
     },
     "metadata": {
      "needs_background": "light"
     },
     "output_type": "display_data"
    }
   ],
   "source": [
    "def my_f(t,y):\n",
    "    A = np.array([[0,1],[-25,-26]])\n",
    "    return A @ y\n",
    "\n",
    "def my_jac(t,y):\n",
    "    A = np.array([[0,1],[-25,-26]])\n",
    "    return A\n",
    "\n",
    "def my_exact(t):\n",
    "    x = (250/24)*np.exp(-t) - (10/24)*np.exp(-25*t)\n",
    "    xp = (-250/24)*np.exp(-t) + (250/24)*np.exp(-25*t)\n",
    "    return np.array([x,xp])\n",
    "\n",
    "h = 0.2\n",
    "n = 50\n",
    "y0 = np.array([10,0])\n",
    "[flag,Y,max_num_steps] = backward_euler_system (\n",
    "    h,n,0,y0,my_f,my_jac,1e-12,100)\n",
    "if flag:\n",
    "    t_approx = np.array(range(0,n+1))*h\n",
    "    t_exact = np.linspace(0,10,1000)\n",
    "    y_exact = my_exact(t_exact)\n",
    "    plt.plot (t_exact,y_exact[0])\n",
    "    plt.plot (t_approx,Y[0],'.')\n",
    "    print (\"Maximum Number of Steps (Newton\\'s Method) = \",\n",
    "        max_num_steps)\n",
    "else:\n",
    "    print (\"Backward Euler's Method Failed!\")"
   ]
  },
  {
   "cell_type": "code",
   "execution_count": 6,
   "metadata": {},
   "outputs": [
    {
     "name": "stdout",
     "output_type": "stream",
     "text": [
      "2.009174558732082\n"
     ]
    }
   ],
   "source": [
    "h1 = 0.005\n",
    "n1 = 2000\n",
    "h2 = 0.0025\n",
    "n2 = 4000\n",
    "[flag,Y1,max_num_steps] = backward_euler_system (\n",
    "    h1,n1,0,y0,my_f,my_jac,1e-12,100)\n",
    "[flag,Y2,max_num_steps] = backward_euler_system (\n",
    "    h2,n2,0,y0,my_f,my_jac,1e-12,100)\n",
    "error1 = linalg.norm(Y1[:,n1]-my_exact(10))\n",
    "error2 = linalg.norm(Y2[:,n2]-my_exact(10))\n",
    "print (error1/error2)"
   ]
  },
  {
   "cell_type": "code",
   "execution_count": 7,
   "metadata": {},
   "outputs": [
    {
     "name": "stdout",
     "output_type": "stream",
     "text": [
      "Maximum Number of Steps (Newton's Method) =  1\n"
     ]
    },
    {
     "data": {
      "image/png": "[encoded data removed]",
      "text/plain": [
       "<Figure size 432x288 with 1 Axes>"
      ]
     },
     "metadata": {
      "needs_background": "light"
     },
     "output_type": "display_data"
    }
   ],
   "source": [
    "def my_f(t,y):\n",
    "    A = np.array([[0,1],[-25,-26]])\n",
    "    b = np.array([0,50*np.cos(5*t)])\n",
    "    return A @ y + b\n",
    "\n",
    "def my_jac(t,y):\n",
    "    A = np.array([[0,1],[-25,-26]])\n",
    "    return A\n",
    "\n",
    "def my_exact(t):\n",
    "    x = (1075/104)*np.exp(-t) - (35/104)*np.exp(-25*t) + (5/13)*np.sin(5*t)\n",
    "    xp = (-1075/104)*np.exp(-t) + 25*(35/104)*np.exp(-25*t) + (25/13)*np.cos(5*t)\n",
    "    return np.array([x,xp])\n",
    "\n",
    "h = 0.2\n",
    "n = 50\n",
    "y0 = np.array([10,0])\n",
    "[flag,Y,max_num_steps] = backward_euler_system (\n",
    "    h,n,0,y0,my_f,my_jac,1e-12,100)\n",
    "if flag:\n",
    "    t_approx = np.array(range(0,n+1))*h\n",
    "    t_exact = np.linspace(0,10,1000)\n",
    "    y_exact = my_exact(t_exact)\n",
    "    plt.plot (t_exact,y_exact[0])\n",
    "    plt.plot (t_approx,Y[0],'.')\n",
    "    print (\"Maximum Number of Steps (Newton\\'s Method) = \",\n",
    "        max_num_steps)\n",
    "else:\n",
    "    print (\"Backward Euler's Method Failed!\")"
   ]
  },
  {
   "cell_type": "code",
   "execution_count": 8,
   "metadata": {},
   "outputs": [
    {
     "name": "stdout",
     "output_type": "stream",
     "text": [
      "1.995218803285222\n"
     ]
    }
   ],
   "source": [
    "h1 = 0.005\n",
    "n1 = 2000\n",
    "h2 = 0.0025\n",
    "n2 = 4000\n",
    "[flag,Y1,max_num_steps] = backward_euler_system (\n",
    "    h1,n1,0,y0,my_f,my_jac,1e-12,100)\n",
    "[flag,Y2,max_num_steps] = backward_euler_system (\n",
    "    h2,n2,0,y0,my_f,my_jac,1e-12,100)\n",
    "error1 = linalg.norm(Y1[:,n1]-my_exact(10))\n",
    "error2 = linalg.norm(Y2[:,n2]-my_exact(10))\n",
    "print (error1/error2)"
   ]
  },
  {
   "cell_type": "code",
   "execution_count": 9,
   "metadata": {},
   "outputs": [
    {
     "name": "stdout",
     "output_type": "stream",
     "text": [
      "Maximum Number of Steps (Newton's Method) =  3\n"
     ]
    },
    {
     "data": {
      "image/png": "[encoded data removed]",
      "text/plain": [
       "<Figure size 432x288 with 1 Axes>"
      ]
     },
     "metadata": {
      "needs_background": "light"
     },
     "output_type": "display_data"
    }
   ],
   "source": [
    "def my_f(t,y):\n",
    "    S = y[0]\n",
    "    I = y[1]\n",
    "    return np.array([-S*I+(2-S-I), S*I-I])\n",
    "\n",
    "def my_jac(t,y):\n",
    "    S = y[0]\n",
    "    I = y[1]\n",
    "    return np.array([[-I-1, -S-1],[I,S-1]])\n",
    "\n",
    "h = 0.1\n",
    "n = 100\n",
    "y0 = np.array([1,1])\n",
    "[flag,Y,max_num_steps] = backward_euler_system (\n",
    "    h,n,0,y0,my_f,my_jac,1e-12,100)\n",
    "plt.plot (Y[0],Y[1],'*')\n",
    "Y1 = forward_euler_system (h,n,0,y0,my_f)\n",
    "Y2 = runge_kutta_system (h,n,0,y0,my_f)\n",
    "plt.plot (Y1[0],Y1[1],'+')\n",
    "plt.plot (Y2[0],Y2[1])\n",
    "plt.legend (['Backward Euler','Forward Euler', \n",
    "             '4th-order Runge-Kutta'])\n",
    "plt.xlabel ('Susceptible (millions)')\n",
    "plt.ylabel ('Infected (millions)')\n",
    "print (\"Maximum Number of Steps (Newton\\'s Method) = \",\n",
    "       max_num_steps)"
   ]
  },
  {
   "cell_type": "code",
   "execution_count": 10,
   "metadata": {},
   "outputs": [
    {
     "name": "stdout",
     "output_type": "stream",
     "text": [
      "2.008439264926757\n"
     ]
    }
   ],
   "source": [
    "h0 = 0.0025\n",
    "n0 = 4000\n",
    "Y0 = runge_kutta_system(h0,n0,0,y0,my_f)\n",
    "h1 = 0.005\n",
    "n1 = 2000\n",
    "h2 = 0.0025\n",
    "n2 = 4000\n",
    "[flag,Y1,max_num_steps] = backward_euler_system (\n",
    "    h1,n1,0,y0,my_f,my_jac,1e-12,100)\n",
    "[flag,Y2,max_num_steps] = backward_euler_system (\n",
    "    h2,n2,0,y0,my_f,my_jac,1e-12,100)\n",
    "error1 = linalg.norm(Y1[:,n1]-Y0[:,n0])\n",
    "error2 = linalg.norm(Y2[:,n2]-Y0[:,n0])\n",
    "print (error1/error2)"
   ]
  },
  {
   "cell_type": "code",
   "execution_count": null,
   "metadata": {},
   "outputs": [],
   "source": []
  },
  {
   "cell_type": "code",
   "execution_count": null,
   "metadata": {},
   "outputs": [],
   "source": [
    "#my code starts here"
   ]
  },
  {
   "cell_type": "code",
   "execution_count": null,
   "metadata": {},
   "outputs": [],
   "source": []
  },
  {
   "cell_type": "code",
   "execution_count": 18,
   "metadata": {},
   "outputs": [],
   "source": [
    "def implicit_trap_system (h,n,t0,y0,f,jac,eps,max_steps):\n",
    "    tk = t0\n",
    "    I = np.identity(len(y0))\n",
    "    max_num_steps = 0\n",
    "    \n",
    "    def i_trap (x):\n",
    "        return (x - Y[:,k] - (h/2)*(f(tk,Y[:,k]) + f(tk+h,x)))\n",
    "        \n",
    "    def trap_jac (x):\n",
    "        return I - (h/2)*jac(tk+h,x)\n",
    "        \n",
    "    Y = np.zeros([len(y0),n+1])\n",
    "    Y[:,0] = y0\n",
    "    I = np.identity(len(y0))\n",
    "    for k in range(0,n):\n",
    "        [flag,x,num_steps] = newtonsMethod (\n",
    "            i_trap,trap_jac,Y[:,k],eps,max_steps)\n",
    "        if num_steps > max_num_steps:\n",
    "            max_num_steps = num_steps\n",
    "        if flag:\n",
    "            Y[:,k+1] = x\n",
    "        else:\n",
    "            return [False,Y,max_num_steps]\n",
    "        tk += h\n",
    "    return [True,Y,max_num_steps]"
   ]
  },
  {
   "cell_type": "code",
   "execution_count": 19,
   "metadata": {},
   "outputs": [
    {
     "name": "stdout",
     "output_type": "stream",
     "text": [
      "Maximum Number of Steps (Newton's Method) =  1\n"
     ]
    },
    {
     "data": {
      "image/png": "[encoded data removed]",
      "text/plain": [
       "<Figure size 432x288 with 1 Axes>"
      ]
     },
     "metadata": {
      "needs_background": "light"
     },
     "output_type": "display_data"
    }
   ],
   "source": [
    "def my_f(t,y):\n",
    "    A = np.array([[0,1],[-25,-26]])\n",
    "    return A @ y\n",
    "\n",
    "def my_jac(t,y):\n",
    "    A = np.array([[0,1],[-25,-26]])\n",
    "    return A\n",
    "\n",
    "def my_exact(t):\n",
    "    x = (250/24)*np.exp(-t) - (10/24)*np.exp(-25*t)\n",
    "    xp = (-250/24)*np.exp(-t) + (250/24)*np.exp(-25*t)\n",
    "    return np.array([x,xp])\n",
    "\n",
    "h = 0.2\n",
    "n = 50\n",
    "y0 = np.array([10,0])\n",
    "[flag,Y,max_num_steps] = implicit_trap_system (\n",
    "    h,n,0,y0,my_f,my_jac,1e-12,100)\n",
    "if flag:\n",
    "    t_approx = np.array(range(0,n+1))*h\n",
    "    t_exact = np.linspace(0,10,1000)\n",
    "    y_exact = my_exact(t_exact)\n",
    "    plt.plot (t_exact,y_exact[0])\n",
    "    plt.plot (t_approx,Y[0],'.')\n",
    "    print (\"Maximum Number of Steps (Newton\\'s Method) = \",\n",
    "        max_num_steps)\n",
    "else:\n",
    "    print (\"Implicit Trap Method Failed!\")"
   ]
  },
  {
   "cell_type": "code",
   "execution_count": 20,
   "metadata": {},
   "outputs": [
    {
     "name": "stdout",
     "output_type": "stream",
     "text": [
      "3.999979997631948\n"
     ]
    }
   ],
   "source": [
    "h1 = 0.005\n",
    "n1 = 2000\n",
    "h2 = 0.0025\n",
    "n2 = 4000\n",
    "[flag,Y1,max_num_steps] = implicit_trap_system (\n",
    "    h1,n1,0,y0,my_f,my_jac,1e-12,100)\n",
    "[flag,Y2,max_num_steps] = implicit_trap_system (\n",
    "    h2,n2,0,y0,my_f,my_jac,1e-12,100)\n",
    "error1 = linalg.norm(Y1[:,n1]-my_exact(10))\n",
    "error2 = linalg.norm(Y2[:,n2]-my_exact(10))\n",
    "print (error1/error2)"
   ]
  },
  {
   "cell_type": "code",
   "execution_count": 21,
   "metadata": {},
   "outputs": [
    {
     "name": "stdout",
     "output_type": "stream",
     "text": [
      "Maximum Number of Steps (Newton's Method) =  1\n"
     ]
    },
    {
     "data": {
      "image/png": "[encoded data removed]",
      "text/plain": [
       "<Figure size 432x288 with 1 Axes>"
      ]
     },
     "metadata": {
      "needs_background": "light"
     },
     "output_type": "display_data"
    }
   ],
   "source": [
    "def my_f(t,y):\n",
    "    A = np.array([[0,1],[-25,-26]])\n",
    "    b = np.array([0,50*np.cos(5*t)])\n",
    "    return A @ y + b\n",
    "\n",
    "def my_jac(t,y):\n",
    "    A = np.array([[0,1],[-25,-26]])\n",
    "    return A\n",
    "\n",
    "def my_exact(t):\n",
    "    x = (1075/104)*np.exp(-t) - (35/104)*np.exp(-25*t) + (5/13)*np.sin(5*t)\n",
    "    xp = (-1075/104)*np.exp(-t) + 25*(35/104)*np.exp(-25*t) + (25/13)*np.cos(5*t)\n",
    "    return np.array([x,xp])\n",
    "\n",
    "h = 0.2\n",
    "n = 50\n",
    "y0 = np.array([10,0])\n",
    "[flag,Y,max_num_steps] = implicit_trap_system (\n",
    "    h,n,0,y0,my_f,my_jac,1e-12,100)\n",
    "if flag:\n",
    "    t_approx = np.array(range(0,n+1))*h\n",
    "    t_exact = np.linspace(0,10,1000)\n",
    "    y_exact = my_exact(t_exact)\n",
    "    plt.plot (t_exact,y_exact[0])\n",
    "    plt.plot (t_approx,Y[0],'.')\n",
    "    print (\"Maximum Number of Steps (Newton\\'s Method) = \",\n",
    "        max_num_steps)\n",
    "else:\n",
    "    print (\"Implicit Trap Method Failed!\")"
   ]
  },
  {
   "cell_type": "code",
   "execution_count": 22,
   "metadata": {},
   "outputs": [
    {
     "name": "stdout",
     "output_type": "stream",
     "text": [
      "4.00030348466721\n"
     ]
    }
   ],
   "source": [
    "h1 = 0.005\n",
    "n1 = 2000\n",
    "h2 = 0.0025\n",
    "n2 = 4000\n",
    "[flag,Y1,max_num_steps] = implicit_trap_system (\n",
    "    h1,n1,0,y0,my_f,my_jac,1e-12,100)\n",
    "[flag,Y2,max_num_steps] = implicit_trap_system (\n",
    "    h2,n2,0,y0,my_f,my_jac,1e-12,100)\n",
    "error1 = linalg.norm(Y1[:,n1]-my_exact(10))\n",
    "error2 = linalg.norm(Y2[:,n2]-my_exact(10))\n",
    "print (error1/error2)"
   ]
  },
  {
   "cell_type": "code",
   "execution_count": 25,
   "metadata": {},
   "outputs": [
    {
     "name": "stdout",
     "output_type": "stream",
     "text": [
      "Maximum Number of Steps (Newton's Method) =  3\n"
     ]
    },
    {
     "data": {
      "image/png": "[encoded data removed]",
      "text/plain": [
       "<Figure size 432x288 with 1 Axes>"
      ]
     },
     "metadata": {
      "needs_background": "light"
     },
     "output_type": "display_data"
    }
   ],
   "source": [
    "def my_f(t,y):\n",
    "    S = y[0]\n",
    "    I = y[1]\n",
    "    return np.array([-S*I+(2-S-I), S*I-I])\n",
    "\n",
    "def my_jac(t,y):\n",
    "    S = y[0]\n",
    "    I = y[1]\n",
    "    return np.array([[-I-1, -S-1],[I,S-1]])\n",
    "\n",
    "h = 0.1\n",
    "n = 100\n",
    "y0 = np.array([1,1])\n",
    "[flag,Y,max_num_steps] = backward_euler_system (\n",
    "    h,n,0,y0,my_f,my_jac,1e-12,100)\n",
    "plt.plot (Y[0],Y[1],'*')\n",
    "Y1 = forward_euler_system (h,n,0,y0,my_f)\n",
    "Y2 = runge_kutta_system (h,n,0,y0,my_f)\n",
    "plt.plot (Y1[0],Y1[1],'+')\n",
    "plt.plot (Y2[0],Y2[1])\n",
    "\n",
    "[flag,Y,max_num_steps] = implicit_trap_system (\n",
    "    h,n,0,y0,my_f,my_jac,1e-12,100)\n",
    "plt.plot (Y[0],Y[1],'.')\n",
    "\n",
    "plt.legend (['Backward Euler','Forward Euler', \n",
    "             '4th-order Runge-Kutta', 'Implicit Trap'])\n",
    "plt.xlabel ('Susceptible (millions)')\n",
    "plt.ylabel ('Infected (millions)')\n",
    "print (\"Maximum Number of Steps (Newton\\'s Method) = \",\n",
    "       max_num_steps)"
   ]
  },
  {
   "cell_type": "code",
   "execution_count": 26,
   "metadata": {},
   "outputs": [
    {
     "name": "stdout",
     "output_type": "stream",
     "text": [
      "3.997352743548126\n"
     ]
    }
   ],
   "source": [
    "h0 = 0.0025\n",
    "n0 = 4000\n",
    "Y0 = runge_kutta_system(h0,n0,0,y0,my_f)\n",
    "h1 = 0.005\n",
    "n1 = 2000\n",
    "h2 = 0.0025\n",
    "n2 = 4000\n",
    "[flag,Y1,max_num_steps] = implicit_trap_system (\n",
    "    h1,n1,0,y0,my_f,my_jac,1e-12,100)\n",
    "[flag,Y2,max_num_steps] = implicit_trap_system (\n",
    "    h2,n2,0,y0,my_f,my_jac,1e-12,100)\n",
    "error1 = linalg.norm(Y1[:,n1]-Y0[:,n0])\n",
    "error2 = linalg.norm(Y2[:,n2]-Y0[:,n0])\n",
    "print (error1/error2)"
   ]
  }
 ],
 "metadata": {
  "kernelspec": {
   "display_name": "Python 3",
   "language": "python",
   "name": "python3"
  },
  "language_info": {
   "codemirror_mode": {
    "name": "ipython",
    "version": 3
   },
   "file_extension": ".py",
   "mimetype": "text/x-python",
   "name": "python",
   "nbconvert_exporter": "python",
   "pygments_lexer": "ipython3",
   "version": "3.7.0"
  }
 },
 "nbformat": 4,
 "nbformat_minor": 2
}
