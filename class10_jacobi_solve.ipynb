{
 "cells": [
  {
   "cell_type": "code",
   "execution_count": 1,
   "metadata": {},
   "outputs": [],
   "source": [
    "import math \n",
    "import numpy as np\n",
    "from scipy import linalg\n",
    "import matplotlib.pyplot as plt"
   ]
  },
  {
   "cell_type": "markdown",
   "metadata": {},
   "source": [
    "# Solve $A \\boldsymbol{x} = \\boldsymbol{b}$ where\n",
    "$$A = \\begin{bmatrix} 4 & -1 & 0 & 0 & \\cdots & 0 \\\\ -1 & 4 & -1 & 0 & \\cdots & 0 \\\\ \n",
    "0 & -1 & 4 & -1 & \\cdots & 0 \\\\ \\vdots & \\ddots & \\ddots & \\ddots & \\ddots & \\vdots \\\\ \n",
    "0 & \\cdots & -1 & 4 & -1 & 0 \\\\ \n",
    "0 & \\cdots & 0 & -1 & 4 & -1 \\\\\n",
    "0 & \\cdots & 0 & 0 & -1 & 4 \\end{bmatrix}$$"
   ]
  },
  {
   "cell_type": "code",
   "execution_count": 2,
   "metadata": {},
   "outputs": [],
   "source": [
    "def example_strict_diag (n,d):\n",
    "    A = d*np.identity(n)\n",
    "    A[0,1] = -1.\n",
    "    A[n-1,n-2] = -1.\n",
    "    for i in range (1,n-1):\n",
    "        A[i,i-1] = -1\n",
    "        A[i,i+1] = -1\n",
    "    return A"
   ]
  },
  {
   "cell_type": "markdown",
   "metadata": {},
   "source": [
    "# Solve the linear system for several different $n$ values.\n",
    "## What do you observe?"
   ]
  },
  {
   "cell_type": "code",
   "execution_count": 11,
   "metadata": {},
   "outputs": [
    {
     "name": "stdout",
     "output_type": "stream",
     "text": [
      "Wall time: 993 µs\n",
      "4.1540741810552243e-16\n",
      "[1. 1. 2. 2. 1. 2. 2. 2. 2. 2.]   [1. 1. 2. 2. 1. 2. 2. 2. 2. 2.]\n"
     ]
    }
   ],
   "source": [
    "n = 100\n",
    "d = 4\n",
    "A = example_strict_diag(n,d)\n",
    "x = np.random.randint(1,3,n)*(1.) # pick a random solution vector\n",
    "b = A @ x # the corresponding right hand side\n",
    "%time x_gauss = linalg.solve(A,b)\n",
    "print (linalg.norm(x-x_gauss))\n",
    "print (x[0:10],' ',x_gauss[0:10])\n",
    "#print(A)"
   ]
  },
  {
   "cell_type": "markdown",
   "metadata": {},
   "source": [
    "# Solve for $n = 20000$.  It takes a long time!"
   ]
  },
  {
   "cell_type": "code",
   "execution_count": 12,
   "metadata": {},
   "outputs": [
    {
     "name": "stdout",
     "output_type": "stream",
     "text": [
      "Wall time: 1min 15s\n",
      "4.002966042486721e-16\n",
      "[1. 1. 1. 2. 1. 1. 1. 1. 1. 2.]   [1. 1. 1. 2. 1. 1. 1. 1. 1. 2.]\n"
     ]
    }
   ],
   "source": [
    "n = 20000\n",
    "d = 4\n",
    "A = example_strict_diag(n,d)\n",
    "x = np.random.randint(1,3,n)*(1.) # pick a random solution vector\n",
    "b = A @ x # the corresponding right hand side\n",
    "%time x_gauss = linalg.solve(A,b)\n",
    "print (linalg.norm(x-x_gauss))\n",
    "print (x[0:10],' ',x_gauss[0:10])"
   ]
  },
  {
   "cell_type": "markdown",
   "metadata": {},
   "source": [
    "## Multiplying an $n \\times n$ matrix $A$ by a vector $\\vec{x}$ takes how many steps?\n",
    "\n",
    "## Answer : \n",
    "\n",
    "## Consider again our matrix \n",
    "\n",
    "$$A = \\begin{bmatrix} 4 & -1 & 0 & 0 & \\cdots & 0 \\\\ -1 & 4 & -1 & 0 & \\cdots & 0 \\\\ \n",
    "0 & -1 & 4 & -1 & \\cdots & 0 \\\\ \\vdots & \\ddots & \\ddots & \\ddots & \\ddots & \\vdots \\\\ \n",
    "0 & \\cdots & -1 & 4 & -1 & 0 \\\\ \n",
    "0 & \\cdots & 0 & -1 & 4 & -1 \\\\\n",
    "0 & \\cdots & 0 & 0 & -1 & 4 \\end{bmatrix}$$\n",
    "\n",
    "## The matrix $A$ is called a *tridiagonal* matrix.  \n",
    "\n",
    "## It is an example of a *sparse* matrix (entries are mostly $0$).  \n",
    "\n",
    "## Multiplying an $n \\times n$ tridiagonal matrix by a vector $\\vec{x}$ takes how many steps?\n",
    "\n",
    "## Answer :"
   ]
  },
  {
   "cell_type": "markdown",
   "metadata": {},
   "source": [
    "# The Jacobi Solver Iteration for solving $A \\boldsymbol{x} = \\boldsymbol{b}$ is \n",
    "$$\\boldsymbol{x}_{k+1} = D^{-1}(D - A) \\boldsymbol{x}_k + D^{-1} \\boldsymbol{b}$$\n",
    "## The most expensive operation is the matrix-vector multiplication \n",
    "$$D^{-1}(D - A) \\boldsymbol{x}_k$$\n",
    "\n",
    "## Again consider our matrix \n",
    "$$A = \\begin{bmatrix} 4 & -1 & 0 & 0 & \\cdots & 0 \\\\ -1 & 4 & -1 & 0 & \\cdots & 0 \\\\ \n",
    "0 & -1 & 4 & -1 & \\cdots & 0 \\\\ \\vdots & \\ddots & \\ddots & \\ddots & \\ddots & \\vdots \\\\ \n",
    "0 & \\cdots & -1 & 4 & -1 & 0 \\\\ \n",
    "0 & \\cdots & 0 & -1 & 4 & -1 \\\\\n",
    "0 & \\cdots & 0 & 0 & -1 & 4 \\end{bmatrix}$$\n",
    "It is not hard to show (exercise!) that \n",
    "\n",
    "$$T = D^{-1} (D-A) = \\begin{bmatrix} 0 & 1/4 & 0 & 0 & \\cdots & 0 \\\\ 1/4 & 0 & 1/4 & 0 & \\cdots & 0 \\\\ \n",
    "0 & 1/4 & 0 & 1/4 & \\cdots & 0 \\\\ \\vdots & \\ddots & \\ddots & \\ddots & \\ddots & \\vdots \\\\ \n",
    "0 & \\cdots & 1/4 & 0 & 1/4 & 0 \\\\ \n",
    "0 & \\cdots & 0 & 1/4 & 0 & 1/4 \\\\\n",
    "0 & \\cdots & 0 & 0 & 1/4 & 0 \\end{bmatrix}$$\n",
    "\n",
    "## The matrices $A$ and $T$ are called *tridiagonal* matrices.  \n",
    "\n",
    "## They are examples of *sparse* matrices (entries are mostly $0$).  \n",
    "\n",
    "## Multiplying an arbitrary $n \\times n$ matrix $A$ by a vector $\\vec{x}$ in $\\mathbb{R}^n$ takes roughly how many operations?\n",
    "\n",
    "## Answer : \n",
    "\n",
    "\n",
    "## Multiplying a $n \\times n$ tridiagonal matrix by a vector $\\vec{x}$ takes roughly how many operations?\n",
    "\n",
    "## Answer :\n",
    "\n",
    "## In addition, it takes much less memory to store a tridiagonal matrix!\n",
    "\n",
    "## Here is a function that creates $T = D^{-1} (D-A)$ using only $3n$ storage and a function for efficiently multiplying a tridiagonal matrix by a vector $\\vec{x}$."
   ]
  },
  {
   "cell_type": "code",
   "execution_count": 48,
   "metadata": {},
   "outputs": [],
   "source": [
    "def example_strict_tri_diag_T (n,d):\n",
    "    T = np.zeros ([n,3])\n",
    "    T[0,0] = 0\n",
    "    T[0,1] = 1/d\n",
    "    T[n-1,1] = 1/d\n",
    "    T[n-1,2] = 0\n",
    "    for i in range (1,n-1):\n",
    "        T[i,0] = 1/d\n",
    "        T[i,1] = 0\n",
    "        T[i,2] = 1/d\n",
    "    return T\n",
    "#print(T)\n",
    "def tri_mult (T,x):\n",
    "    result = np.zeros(n)\n",
    "    result[0] = T[0,0]*x[0] + T[0,1]*x[1]\n",
    "    result[n-1] = T[n-1,1]*x[n-2] + T[n-1,2]*x[n-1]\n",
    "    for i in range (1,n-1):\n",
    "        result[i] = T[i,0]*x[i-1] + T[i,1]*x[i] + T[i,2]*x[i+1]\n",
    "    return result"
   ]
  },
  {
   "cell_type": "markdown",
   "metadata": {},
   "source": [
    "# Solve the linear system using the Jacobi Solver Iteration for $n = 20000$ (with the $x$ and $b$ vectors generated above).\n",
    "\n",
    "# What do you observe?"
   ]
  },
  {
   "cell_type": "code",
   "execution_count": 16,
   "metadata": {},
   "outputs": [
    {
     "name": "stdout",
     "output_type": "stream",
     "text": [
      "Wall time: 37.1 s\n",
      "0.0\n",
      "[1. 1. 1. 2. 1. 1. 1. 1. 1. 2.]   [1. 1. 1. 2. 1. 1. 1. 1. 1. 2.]\n"
     ]
    }
   ],
   "source": [
    "num_iter = 50 # while loop with a stopping condition would be better!\n",
    "d = 4\n",
    "T = example_strict_tri_diag_T(n,d)\n",
    "c = b/d # Note that c = T^{-1} b = b/4\n",
    "x_jacobi = np.zeros(n)\n",
    "%time for i in range(0,num_iter): x_jacobi = tri_mult(T,x_jacobi) + c\n",
    "print (linalg.norm(x-x_jacobi))\n",
    "print (x[0:10],' ',x_jacobi[0:10])"
   ]
  },
  {
   "cell_type": "markdown",
   "metadata": {},
   "source": [
    "# Class Exercise 1 : Solve $A \\boldsymbol{x} = \\boldsymbol{b}$ where\n",
    "$$A = \\begin{bmatrix} 2 & -1 & 0 & 0 & \\cdots & 0 \\\\ -1 & 2 & -1 & 0 & \\cdots & 0 \\\\ \n",
    "0 & -1 & 2 & -1 & \\cdots & 0 \\\\ \\vdots & \\ddots & \\ddots & \\ddots & \\ddots & \\vdots \\\\ \n",
    "0 & \\cdots & -1 & 2 & -1 & 0 \\\\ \n",
    "0 & \\cdots & 0 & -1 & 2 & -1 \\\\\n",
    "0 & \\cdots & 0 & 0 & -1 & 2 \\end{bmatrix}$$"
   ]
  },
  {
   "cell_type": "markdown",
   "metadata": {},
   "source": [
    "# Part 1 : Run the codes below.  \n",
    "\n",
    "* What do you observe?  \n",
    "* What can you do to reduce the error for the Jacobi Solver Iteration? \n",
    "* About how many iterations are required to get an error near 0.01?"
   ]
  },
  {
   "cell_type": "code",
   "execution_count": 34,
   "metadata": {},
   "outputs": [
    {
     "name": "stdout",
     "output_type": "stream",
     "text": [
      "Wall time: 1.9 ms\n",
      "1.4001030442774933e-13\n",
      "[1. 1. 1. 1. 2. 2. 1. 2. 1. 1.]   [1. 1. 1. 1. 2. 2. 1. 2. 1. 1.]\n"
     ]
    }
   ],
   "source": [
    "n = 100\n",
    "d = 2\n",
    "A = example_strict_diag(n,d)\n",
    "x = np.random.randint(1,3,n)*(1.) # pick a random solution vector\n",
    "b = A @ x # the corresponding right hand side\n",
    "%time x_gauss = linalg.solve(A,b)\n",
    "print (linalg.norm(x-x_gauss))\n",
    "print (x[0:10],' ',x_gauss[0:10])"
   ]
  },
  {
   "cell_type": "code",
   "execution_count": 31,
   "metadata": {},
   "outputs": [
    {
     "name": "stdout",
     "output_type": "stream",
     "text": [
      "Wall time: 2.79 s\n",
      "0.010625862249419655\n",
      "[2. 1. 1. 1. 2. 1. 2. 1. 2. 1.]   [1.99995307 0.99990791 0.99985938 0.99981618 1.99976624 0.99972515\n",
      " 1.999674   0.9996352  1.99958302 0.99954665]\n"
     ]
    }
   ],
   "source": [
    "num_iter = 14700 # while loop with a stopping condition would be better!\n",
    "d = 2\n",
    "T = example_strict_tri_diag_T(n,d)\n",
    "c = b/d # Note that c = T^{-1} b = b/2\n",
    "x_jacobi = np.zeros(n)\n",
    "%time for i in range(0,num_iter): x_jacobi = tri_mult(T,x_jacobi) + c\n",
    "print (linalg.norm(x-x_jacobi))\n",
    "print (x[0:10],' ',x_jacobi[0:10])"
   ]
  },
  {
   "cell_type": "code",
   "execution_count": null,
   "metadata": {},
   "outputs": [],
   "source": [
    "# need to run about 14500 times for error to be near 0.01"
   ]
  },
  {
   "cell_type": "markdown",
   "metadata": {},
   "source": [
    "# Part 2 : Using a combination of Python and math, explain what is going on.  In particular, why is the convergence of the Jacobi Solver Iteration so slow.  What conclusions can you draw?\n",
    "\n",
    "## Hint : Carefully consider the matrix $T = D^{-1}(D - A)$."
   ]
  },
  {
   "cell_type": "code",
   "execution_count": 56,
   "metadata": {},
   "outputs": [
    {
     "ename": "LinAlgError",
     "evalue": "1-dimensional array given. Array must be at least two-dimensional",
     "output_type": "error",
     "traceback": [
      "\u001b[1;31m---------------------------------------------------------------------------\u001b[0m",
      "\u001b[1;31mLinAlgError\u001b[0m                               Traceback (most recent call last)",
      "\u001b[1;32m<ipython-input-56-c742e076eb35>\u001b[0m in \u001b[0;36m<module>\u001b[1;34m()\u001b[0m\n\u001b[0;32m      5\u001b[0m \u001b[0mA\u001b[0m \u001b[1;33m=\u001b[0m \u001b[0mexample_strict_diag\u001b[0m\u001b[1;33m(\u001b[0m\u001b[0mn\u001b[0m\u001b[1;33m,\u001b[0m\u001b[0md\u001b[0m\u001b[1;33m)\u001b[0m\u001b[1;33m\u001b[0m\u001b[0m\n\u001b[0;32m      6\u001b[0m \u001b[0mtemp\u001b[0m \u001b[1;33m=\u001b[0m \u001b[1;33m(\u001b[0m\u001b[0mnp\u001b[0m\u001b[1;33m.\u001b[0m\u001b[0mdiag\u001b[0m\u001b[1;33m(\u001b[0m\u001b[0mnp\u001b[0m\u001b[1;33m.\u001b[0m\u001b[0mdiag\u001b[0m\u001b[1;33m(\u001b[0m\u001b[0mA\u001b[0m\u001b[1;33m)\u001b[0m\u001b[1;33m)\u001b[0m \u001b[1;33m-\u001b[0m \u001b[0mA\u001b[0m\u001b[1;33m)\u001b[0m\u001b[1;33m\u001b[0m\u001b[0m\n\u001b[1;32m----> 7\u001b[1;33m \u001b[0mD_inv\u001b[0m\u001b[1;33m=\u001b[0m \u001b[0mnp\u001b[0m\u001b[1;33m.\u001b[0m\u001b[0mlinalg\u001b[0m\u001b[1;33m.\u001b[0m\u001b[0minv\u001b[0m\u001b[1;33m(\u001b[0m\u001b[0mD\u001b[0m\u001b[1;33m)\u001b[0m\u001b[1;33m\u001b[0m\u001b[0m\n\u001b[0m\u001b[0;32m      8\u001b[0m \u001b[0mD_inv\u001b[0m\u001b[1;33m\u001b[0m\u001b[0m\n",
      "\u001b[1;32m~\\Anaconda3\\lib\\site-packages\\numpy\\linalg\\linalg.py\u001b[0m in \u001b[0;36minv\u001b[1;34m(a)\u001b[0m\n\u001b[0;32m    524\u001b[0m     \"\"\"\n\u001b[0;32m    525\u001b[0m     \u001b[0ma\u001b[0m\u001b[1;33m,\u001b[0m \u001b[0mwrap\u001b[0m \u001b[1;33m=\u001b[0m \u001b[0m_makearray\u001b[0m\u001b[1;33m(\u001b[0m\u001b[0ma\u001b[0m\u001b[1;33m)\u001b[0m\u001b[1;33m\u001b[0m\u001b[0m\n\u001b[1;32m--> 526\u001b[1;33m     \u001b[0m_assertRankAtLeast2\u001b[0m\u001b[1;33m(\u001b[0m\u001b[0ma\u001b[0m\u001b[1;33m)\u001b[0m\u001b[1;33m\u001b[0m\u001b[0m\n\u001b[0m\u001b[0;32m    527\u001b[0m     \u001b[0m_assertNdSquareness\u001b[0m\u001b[1;33m(\u001b[0m\u001b[0ma\u001b[0m\u001b[1;33m)\u001b[0m\u001b[1;33m\u001b[0m\u001b[0m\n\u001b[0;32m    528\u001b[0m     \u001b[0mt\u001b[0m\u001b[1;33m,\u001b[0m \u001b[0mresult_t\u001b[0m \u001b[1;33m=\u001b[0m \u001b[0m_commonType\u001b[0m\u001b[1;33m(\u001b[0m\u001b[0ma\u001b[0m\u001b[1;33m)\u001b[0m\u001b[1;33m\u001b[0m\u001b[0m\n",
      "\u001b[1;32m~\\Anaconda3\\lib\\site-packages\\numpy\\linalg\\linalg.py\u001b[0m in \u001b[0;36m_assertRankAtLeast2\u001b[1;34m(*arrays)\u001b[0m\n\u001b[0;32m    202\u001b[0m         \u001b[1;32mif\u001b[0m \u001b[0ma\u001b[0m\u001b[1;33m.\u001b[0m\u001b[0mndim\u001b[0m \u001b[1;33m<\u001b[0m \u001b[1;36m2\u001b[0m\u001b[1;33m:\u001b[0m\u001b[1;33m\u001b[0m\u001b[0m\n\u001b[0;32m    203\u001b[0m             raise LinAlgError('%d-dimensional array given. Array must be '\n\u001b[1;32m--> 204\u001b[1;33m                     'at least two-dimensional' % a.ndim)\n\u001b[0m\u001b[0;32m    205\u001b[0m \u001b[1;33m\u001b[0m\u001b[0m\n\u001b[0;32m    206\u001b[0m \u001b[1;32mdef\u001b[0m \u001b[0m_assertSquareness\u001b[0m\u001b[1;33m(\u001b[0m\u001b[1;33m*\u001b[0m\u001b[0marrays\u001b[0m\u001b[1;33m)\u001b[0m\u001b[1;33m:\u001b[0m\u001b[1;33m\u001b[0m\u001b[0m\n",
      "\u001b[1;31mLinAlgError\u001b[0m: 1-dimensional array given. Array must be at least two-dimensional"
     ]
    }
   ],
   "source": [
    "n = 100\n",
    "d = 4\n",
    "D = np.diag(np.diag(D))\n",
    "#print(D)\n",
    "A = example_strict_diag(n,d)\n",
    "T = linalg.inv(D) @ (D - A)\n",
    "max(abs(linalg.eig(T)[0]))\n",
    "T = (np.diag(np.diag(A)) - A)\n",
    "D_inv= np.linalg.inv(D)\n",
    "D_inv"
   ]
  },
  {
   "cell_type": "markdown",
   "metadata": {},
   "source": [
    "# Part 3 : Calculate $\\rho(D^{-1}(D-A))$ for $n = 50, 100, 150, 200$.  What do you observe?  What does this tell you about the prospect of using the Jacobi Solver Iteration for solving this system for large $n$?"
   ]
  },
  {
   "cell_type": "code",
   "execution_count": null,
   "metadata": {},
   "outputs": [],
   "source": []
  }
 ],
 "metadata": {
  "kernelspec": {
   "display_name": "Python 3",
   "language": "python",
   "name": "python3"
  },
  "language_info": {
   "codemirror_mode": {
    "name": "ipython",
    "version": 3
   },
   "file_extension": ".py",
   "mimetype": "text/x-python",
   "name": "python",
   "nbconvert_exporter": "python",
   "pygments_lexer": "ipython3",
   "version": "3.7.0"
  }
 },
 "nbformat": 4,
 "nbformat_minor": 2
}
